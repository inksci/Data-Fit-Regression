{
 "cells": [
  {
   "cell_type": "markdown",
   "metadata": {},
   "source": [
    "### Configuration for Running:\n",
    "> Run under conda-env: py3-mujoco-v15"
   ]
  },
  {
   "cell_type": "code",
   "execution_count": 1,
   "metadata": {},
   "outputs": [],
   "source": [
    "import numpy as np"
   ]
  },
  {
   "cell_type": "markdown",
   "metadata": {},
   "source": [
    "#### 1. Load(Create) Data"
   ]
  },
  {
   "cell_type": "code",
   "execution_count": 2,
   "metadata": {},
   "outputs": [],
   "source": [
    "x1 = range(1000)\n",
    "x2 = range(1000)\n",
    "y = []\n",
    "for i in range(1000):\n",
    "    y.append( [np.sin(x1[i])+x2[i]**2] )\n",
    "    \n",
    "x1 = np.array(x1)\n",
    "x2 = np.array(x2)\n",
    "y = np.array(y)"
   ]
  },
  {
   "cell_type": "code",
   "execution_count": 3,
   "metadata": {},
   "outputs": [],
   "source": [
    "import random"
   ]
  },
  {
   "cell_type": "markdown",
   "metadata": {},
   "source": [
    "#### 2. Design Neural Networks for Regression"
   ]
  },
  {
   "cell_type": "code",
   "execution_count": 4,
   "metadata": {},
   "outputs": [],
   "source": [
    "cost = []"
   ]
  },
  {
   "cell_type": "code",
   "execution_count": 5,
   "metadata": {},
   "outputs": [],
   "source": [
    "import tensorflow as tf\n",
    "import numpy as np\n",
    "import random\n",
    "from collections import deque\n",
    "\n",
    "BATCH_SIZE = 32 # size of minibatch\n",
    "\n",
    "class agent():\n",
    "    def __init__(self):\n",
    "        self.input_dim = 2\n",
    "        self.output_dim = 1\n",
    "        \n",
    "        self.create_network()\n",
    "        self.create_training_method()\n",
    "        \n",
    "        # Init session\n",
    "        self.session = tf.InteractiveSession()\n",
    "        self.session.run(tf.global_variables_initializer())\n",
    "\n",
    "    def create_network(self):\n",
    "        # network weights\n",
    "        W1 = self.weight_variable([self.input_dim,20])\n",
    "        b1 = self.bias_variable([20])\n",
    "        W2 = self.weight_variable([20,self.output_dim])\n",
    "        b2 = self.bias_variable([self.output_dim])\n",
    "        \n",
    "        # input layer\n",
    "        self.input = tf.placeholder(\"float\",[None,self.input_dim])\n",
    "        \n",
    "        self.target = tf.placeholder(\"float\",[None,self.output_dim]) # OK?\n",
    "        \n",
    "        # hidden layers\n",
    "        h_layer = tf.nn.relu(tf.matmul(self.input,W1) + b1)\n",
    "        \n",
    "        # output layer\n",
    "        self.predict = tf.matmul(h_layer,W2) + b2\n",
    "    def weight_variable(self,shape):\n",
    "        initial = tf.truncated_normal(shape)\n",
    "        return tf.Variable(initial)\n",
    "\n",
    "    def bias_variable(self,shape):\n",
    "        initial = tf.constant(0.01, shape = shape)\n",
    "        return tf.Variable(initial)\n",
    "   \n",
    "    def train_network(self, in_batch, out_batch):\n",
    "        self.optimizer.run(feed_dict={self.input: in_batch, self.target: out_batch})\n",
    "\n",
    "    def create_training_method(self):        \n",
    "        self.cost = tf.reduce_mean(tf.square(self.predict - self.target))\n",
    "        self.optimizer = tf.train.AdamOptimizer(0.0001).minimize(self.cost)"
   ]
  },
  {
   "cell_type": "code",
   "execution_count": 6,
   "metadata": {},
   "outputs": [],
   "source": [
    "my_agent = agent()"
   ]
  },
  {
   "cell_type": "code",
   "execution_count": 7,
   "metadata": {},
   "outputs": [
    {
     "name": "stdout",
     "output_type": "stream",
     "text": [
      "[186, 595, 767, 803, 231, 589, 84, 346, 642, 638, 182, 682, 741, 387, 660, 912, 831, 129, 287, 211, 656, 588, 2, 43, 736, 655, 80, 902, 983, 482, 977, 657]\n"
     ]
    }
   ],
   "source": [
    "i2_batch = random.sample(range(1000), 32)\n",
    "print( i2_batch )"
   ]
  },
  {
   "cell_type": "code",
   "execution_count": 8,
   "metadata": {},
   "outputs": [],
   "source": [
    "from tqdm import trange"
   ]
  },
  {
   "cell_type": "markdown",
   "metadata": {},
   "source": [
    "#### Run this many times"
   ]
  },
  {
   "cell_type": "code",
   "execution_count": 18,
   "metadata": {},
   "outputs": [
    {
     "name": "stderr",
     "output_type": "stream",
     "text": [
      "100%|████████████████████████████████████████████████████████████████████████████████| 100/100 [00:49<00:00,  2.04it/s]\n"
     ]
    }
   ],
   "source": [
    "for k in trange(100):\n",
    "    for i in range(100):\n",
    "        i_batch = random.sample(range(1000), 32)        \n",
    "        for j in range(10):\n",
    "            my_agent.train_network( np.array([x1[i_batch], x2[i_batch]]).T, y[i_batch] )\n",
    "\n",
    "    # prediction\n",
    "    y_predict = my_agent.predict.eval(feed_dict = {my_agent.input:np.array([x1[i2_batch], x2[i2_batch]]).T})\n",
    "\n",
    "    # cost record\n",
    "    cost.append( sum(abs(y_predict - y[i2_batch])) )\n",
    "    # print( \"cost: \", cost )"
   ]
  },
  {
   "cell_type": "markdown",
   "metadata": {},
   "source": [
    "#### Plot it"
   ]
  },
  {
   "cell_type": "code",
   "execution_count": 10,
   "metadata": {},
   "outputs": [],
   "source": [
    "import matplotlib.pyplot as plt\n",
    "%matplotlib inline"
   ]
  },
  {
   "cell_type": "code",
   "execution_count": 72,
   "metadata": {},
   "outputs": [],
   "source": [
    "# 眼睛里要容得下沙子 Allow the sand in your view"
   ]
  },
  {
   "cell_type": "code",
   "execution_count": 24,
   "metadata": {
    "scrolled": true
   },
   "outputs": [
    {
     "data": {
      "image/png": "[encoded data removed]",
      "text/plain": [
       "<matplotlib.figure.Figure at 0x1b1a4d84c88>"
      ]
     },
     "metadata": {},
     "output_type": "display_data"
    }
   ],
   "source": [
    "xypoints = cost\n",
    "\n",
    "plt.plot(np.array(xypoints).reshape(-1), 'g*')#, label='--'\n",
    "plt.title('Title')\n",
    "plt.xlabel('X')\n",
    "plt.ylabel('Y')\n",
    "# plt.legend(loc='upper right')\n",
    "plt.show()"
   ]
  },
  {
   "cell_type": "code",
   "execution_count": 25,
   "metadata": {
    "scrolled": true
   },
   "outputs": [
    {
     "data": {
      "image/png": "[encoded data removed]",
      "text/plain": [
       "<matplotlib.figure.Figure at 0x1b1a4d60c88>"
      ]
     },
     "metadata": {},
     "output_type": "display_data"
    }
   ],
   "source": [
    "xypoints = cost[60:]\n",
    "\n",
    "plt.plot(np.array(xypoints).reshape(-1), 'g*')#, label='--'\n",
    "plt.title('Title')\n",
    "plt.xlabel('X')\n",
    "plt.ylabel('Y')\n",
    "# plt.legend(loc='upper right')\n",
    "plt.show()"
   ]
  },
  {
   "cell_type": "code",
   "execution_count": 26,
   "metadata": {},
   "outputs": [
    {
     "data": {
      "text/plain": [
       "[array([ 2777129.19392969]),\n",
       " array([ 2786934.00154688]),\n",
       " array([ 2772540.82295801]),\n",
       " array([ 2784024.27266504]),\n",
       " array([ 2795726.65450098]),\n",
       " array([ 2804664.44771387]),\n",
       " array([ 2795387.3180752]),\n",
       " array([ 2788403.08540918]),\n",
       " array([ 2791095.02303125]),\n",
       " array([ 2796766.20827295])]"
      ]
     },
     "execution_count": 26,
     "metadata": {},
     "output_type": "execute_result"
    }
   ],
   "source": [
    "cost[-10:]"
   ]
  },
  {
   "cell_type": "code",
   "execution_count": null,
   "metadata": {},
   "outputs": [],
   "source": []
  }
 ],
 "metadata": {
  "kernelspec": {
   "display_name": "Python 3",
   "language": "python",
   "name": "python3"
  },
  "language_info": {
   "codemirror_mode": {
    "name": "ipython",
    "version": 3
   },
   "file_extension": ".py",
   "mimetype": "text/x-python",
   "name": "python",
   "nbconvert_exporter": "python",
   "pygments_lexer": "ipython3",
   "version": "3.5.2"
  }
 },
 "nbformat": 4,
 "nbformat_minor": 2
}
